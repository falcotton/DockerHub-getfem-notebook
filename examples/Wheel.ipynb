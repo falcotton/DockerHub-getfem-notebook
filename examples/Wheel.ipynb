{
 "cells": [
  {
   "cell_type": "code",
   "execution_count": null,
   "metadata": {},
   "outputs": [],
   "source": [
    "# http://getfem.org/tutorial/wheel.html"
   ]
  },
  {
   "cell_type": "code",
   "execution_count": 1,
   "metadata": {},
   "outputs": [],
   "source": [
    "import getfem as gf\n",
    "import numpy as np\n",
    "\n",
    "E = 21E6                         # Young Modulus (N/cm^2)\n",
    "nu = 0.3                         # Poisson ratio\n",
    "clambda = E*nu/((1+nu)*(1-2*nu)) # First Lame coefficient (N/cm^2)\n",
    "cmu = E/(2*(1+nu))               # Second Lame coefficient (N/cm^2)\n",
    "clambdastar = 2*clambda*cmu/(clambda+2*cmu) # Lame coefficient for Plane stress (N/cm^2)\n",
    "applied_force = 1E7              # Force at the hole boundary (N)\n",
    "\n",
    "h = 1                      # Approximate mesh size\n",
    "elements_degree = 2        # Degree of the finite element methods\n",
    "gamma0 = 1./E;             # Augmentation parameter for the augmented Lagrangian"
   ]
  },
  {
   "cell_type": "code",
   "execution_count": 2,
   "metadata": {},
   "outputs": [],
   "source": [
    "mo1 = gf.MesherObject('ball', [0., 15.], 15.)\n",
    "mo2 = gf.MesherObject('ball', [0., 15.], 8.)\n",
    "mo3 = gf.MesherObject('set minus', mo1, mo2)\n",
    "gf.util('trace level', 2)   # No trace for mesh generation\n",
    "mesh1 = gf.Mesh('generate', mo3, h, 2)\n",
    "\n",
    "mesh2 = gf.Mesh('import','structured','GT=\"GT_PK(2,1)\";SIZES=[30,10];NOISED=0;NSUBDIV=[%d,%d];' % (int(30/h)+1, int(10/h)+1));\n",
    "mesh2.translate([-15.,-10.])"
   ]
  },
  {
   "cell_type": "code",
   "execution_count": 3,
   "metadata": {},
   "outputs": [],
   "source": [
    "fb1 = mesh1.outer_faces_in_box([-8.1, 6.9], [8.1, 23.1])     # Boundary of the hole\n",
    "fb2 = mesh1.outer_faces_with_direction([0., -1.], np.pi/4.5) # Contact boundary of the wheel\n",
    "fb3 = mesh2.outer_faces_with_direction([0., -1.], 0.01)      # Bottom boundary of the foundation\n",
    "\n",
    "HOLE_BOUND=1; CONTACT_BOUND=2; BOTTOM_BOUND=3;\n",
    "\n",
    "mesh1.set_region(HOLE_BOUND, fb1)\n",
    "mesh1.set_region(CONTACT_BOUND, fb2)\n",
    "mesh1.region_subtract(CONTACT_BOUND, HOLE_BOUND)\n",
    "mesh2.set_region(BOTTOM_BOUND, fb3)"
   ]
  },
  {
   "cell_type": "code",
   "execution_count": 4,
   "metadata": {},
   "outputs": [],
   "source": [
    "mfu1 = gf.MeshFem(mesh1, 2)\n",
    "mfu1.set_classical_fem(elements_degree)\n",
    "mflambda = gf.MeshFem(mesh1, 2)\n",
    "mflambda.set_classical_fem(elements_degree-1)\n",
    "mflambda_C = gf.MeshFem(mesh1, 1)\n",
    "mflambda_C.set_classical_fem(elements_degree-1)\n",
    "mfu2 = gf.MeshFem(mesh2, 2)\n",
    "mfu2.set_classical_fem(elements_degree)\n",
    "mfvm1 = gf.MeshFem(mesh1, 1)\n",
    "mfvm1.set_classical_discontinuous_fem(elements_degree)\n",
    "mfvm2 = gf.MeshFem(mesh2, 1)\n",
    "mfvm2.set_classical_discontinuous_fem(elements_degree)\n",
    "mim1 = gf.MeshIm(mesh1, pow(elements_degree,2))\n",
    "mim2 = gf.MeshIm(mesh2, pow(elements_degree,2))"
   ]
  },
  {
   "cell_type": "code",
   "execution_count": 5,
   "metadata": {},
   "outputs": [],
   "source": [
    "md=gf.Model('real');\n",
    "md.add_fem_variable('u1', mfu1)       # Displacement of the structure 1\n",
    "md.add_fem_variable('u2', mfu2)       # Displacement of the structure 2"
   ]
  },
  {
   "cell_type": "code",
   "execution_count": 6,
   "metadata": {},
   "outputs": [
    {
     "data": {
      "text/plain": [
       "1"
      ]
     },
     "execution_count": 6,
     "metadata": {},
     "output_type": "execute_result"
    }
   ],
   "source": [
    "md.add_initialized_data('cmu', [cmu])\n",
    "md.add_initialized_data('clambdastar', [clambdastar])\n",
    "md.add_isotropic_linearized_elasticity_brick(mim1, 'u1', 'clambdastar', 'cmu')\n",
    "md.add_isotropic_linearized_elasticity_brick(mim2, 'u2', 'clambdastar', 'cmu')"
   ]
  },
  {
   "cell_type": "code",
   "execution_count": 7,
   "metadata": {},
   "outputs": [
    {
     "data": {
      "text/plain": [
       "2"
      ]
     },
     "execution_count": 7,
     "metadata": {},
     "output_type": "execute_result"
    }
   ],
   "source": [
    "md.add_Dirichlet_condition_with_multipliers(mim2, 'u2', elements_degree-1, BOTTOM_BOUND)"
   ]
  },
  {
   "cell_type": "code",
   "execution_count": 8,
   "metadata": {},
   "outputs": [],
   "source": [
    "md.add_interpolate_transformation_from_expression('Proj1', mesh1, mesh2, '[X(1);0]')\n",
    "\n",
    "md.add_initialized_data('gamma0', [gamma0])\n",
    "md.add_filtered_fem_variable('lambda1', mflambda_C, CONTACT_BOUND)\n",
    "md.add_nonlinear_term(mim1, 'lambda1*(Test_u1.[0;1])'\n",
    "                    '-lambda1*(Interpolate(Test_u2,Proj1).[0;1])', CONTACT_BOUND)\n",
    "md.add_nonlinear_term(mim1, '-(gamma0*element_size)'\n",
    "          '*(lambda1 + neg_part(lambda1+(1/(gamma0*element_size))'\n",
    "          '*((u1-Interpolate(u2,Proj1)+X-Interpolate(X,Proj1)).[0;1])))*Test_lambda1', CONTACT_BOUND);"
   ]
  },
  {
   "cell_type": "code",
   "execution_count": 10,
   "metadata": {},
   "outputs": [
    {
     "ename": "RuntimeError",
     "evalue": "(Getfem::InterfaceError) -- Error in getfem_models.cc, line 101 : \nVariable alpha_D already exists",
     "output_type": "error",
     "traceback": [
      "\u001b[0;31m---------------------------------------------------------------------------\u001b[0m",
      "\u001b[0;31mRuntimeError\u001b[0m                              Traceback (most recent call last)",
      "\u001b[0;32m<ipython-input-10-1244e2482b70>\u001b[0m in \u001b[0;36m<module>\u001b[0;34m\u001b[0m\n\u001b[0;32m----> 1\u001b[0;31m \u001b[0mmd\u001b[0m\u001b[0;34m.\u001b[0m\u001b[0madd_variable\u001b[0m\u001b[0;34m(\u001b[0m\u001b[0;34m'alpha_D'\u001b[0m\u001b[0;34m,\u001b[0m \u001b[0;36m1\u001b[0m\u001b[0;34m)\u001b[0m\u001b[0;34m\u001b[0m\u001b[0;34m\u001b[0m\u001b[0m\n\u001b[0m\u001b[1;32m      2\u001b[0m \u001b[0;34m\u001b[0m\u001b[0m\n\u001b[1;32m      3\u001b[0m \u001b[0mmd\u001b[0m\u001b[0;34m.\u001b[0m\u001b[0madd_filtered_fem_variable\u001b[0m\u001b[0;34m(\u001b[0m\u001b[0;34m'lambda_D'\u001b[0m\u001b[0;34m,\u001b[0m \u001b[0mmflambda\u001b[0m\u001b[0;34m,\u001b[0m \u001b[0mHOLE_BOUND\u001b[0m\u001b[0;34m)\u001b[0m\u001b[0;34m\u001b[0m\u001b[0;34m\u001b[0m\u001b[0m\n\u001b[1;32m      4\u001b[0m \u001b[0;34m\u001b[0m\u001b[0m\n\u001b[1;32m      5\u001b[0m \u001b[0mmd\u001b[0m\u001b[0;34m.\u001b[0m\u001b[0madd_initialized_data\u001b[0m\u001b[0;34m(\u001b[0m\u001b[0;34m'F'\u001b[0m\u001b[0;34m,\u001b[0m \u001b[0;34m[\u001b[0m\u001b[0mapplied_force\u001b[0m\u001b[0;34m/\u001b[0m\u001b[0;34m(\u001b[0m\u001b[0;36m8\u001b[0m\u001b[0;34m*\u001b[0m\u001b[0;36m2\u001b[0m\u001b[0;34m*\u001b[0m\u001b[0mnp\u001b[0m\u001b[0;34m.\u001b[0m\u001b[0mpi\u001b[0m\u001b[0;34m)\u001b[0m\u001b[0;34m]\u001b[0m\u001b[0;34m)\u001b[0m\u001b[0;34m\u001b[0m\u001b[0;34m\u001b[0m\u001b[0m\n",
      "\u001b[0;32m~/work/getfem/interface/src/python/getfem.py\u001b[0m in \u001b[0;36madd_variable\u001b[0;34m(self, name, sizes)\u001b[0m\n\u001b[1;32m   3207\u001b[0m     \u001b[0minteger\u001b[0m \u001b[0;34m(\u001b[0m\u001b[0;32mfor\u001b[0m \u001b[0ma\u001b[0m \u001b[0mscalar\u001b[0m \u001b[0;32mor\u001b[0m \u001b[0mvector\u001b[0m \u001b[0mvariable\u001b[0m\u001b[0;34m)\u001b[0m \u001b[0;32mor\u001b[0m \u001b[0ma\u001b[0m \u001b[0mvector\u001b[0m \u001b[0mof\u001b[0m \u001b[0mdimensions\u001b[0m\u001b[0;34m\u001b[0m\u001b[0;34m\u001b[0m\u001b[0m\n\u001b[1;32m   3208\u001b[0m     for a tensor variable. `name` is the variable name. \"\"\"\n\u001b[0;32m-> 3209\u001b[0;31m     \u001b[0;32mreturn\u001b[0m \u001b[0mself\u001b[0m\u001b[0;34m.\u001b[0m\u001b[0mset\u001b[0m\u001b[0;34m(\u001b[0m\u001b[0;34m\"add_variable\"\u001b[0m\u001b[0;34m,\u001b[0m \u001b[0mname\u001b[0m\u001b[0;34m,\u001b[0m \u001b[0msizes\u001b[0m\u001b[0;34m)\u001b[0m\u001b[0;34m\u001b[0m\u001b[0;34m\u001b[0m\u001b[0m\n\u001b[0m\u001b[1;32m   3210\u001b[0m \u001b[0;34m\u001b[0m\u001b[0m\n\u001b[1;32m   3211\u001b[0m \u001b[0;34m\u001b[0m\u001b[0m\n",
      "\u001b[0;32m~/work/getfem/interface/src/python/getfem.py\u001b[0m in \u001b[0;36mset\u001b[0;34m(self, *args)\u001b[0m\n\u001b[1;32m   2760\u001b[0m     \u001b[0;32mreturn\u001b[0m \u001b[0;34m''\u001b[0m\u001b[0;34m\u001b[0m\u001b[0;34m\u001b[0m\u001b[0m\n\u001b[1;32m   2761\u001b[0m   \u001b[0;32mdef\u001b[0m \u001b[0mset\u001b[0m\u001b[0;34m(\u001b[0m\u001b[0mself\u001b[0m\u001b[0;34m,\u001b[0m \u001b[0;34m*\u001b[0m\u001b[0margs\u001b[0m\u001b[0;34m)\u001b[0m\u001b[0;34m:\u001b[0m\u001b[0;34m\u001b[0m\u001b[0;34m\u001b[0m\u001b[0m\n\u001b[0;32m-> 2762\u001b[0;31m     \u001b[0;32mreturn\u001b[0m \u001b[0mgetfem\u001b[0m\u001b[0;34m(\u001b[0m\u001b[0;34m'model_set'\u001b[0m\u001b[0;34m,\u001b[0m\u001b[0mself\u001b[0m\u001b[0;34m.\u001b[0m\u001b[0mid\u001b[0m\u001b[0;34m,\u001b[0m \u001b[0;34m*\u001b[0m\u001b[0margs\u001b[0m\u001b[0;34m)\u001b[0m\u001b[0;34m\u001b[0m\u001b[0;34m\u001b[0m\u001b[0m\n\u001b[0m\u001b[1;32m   2763\u001b[0m   \u001b[0;32mdef\u001b[0m \u001b[0m__str__\u001b[0m\u001b[0;34m(\u001b[0m\u001b[0mself\u001b[0m\u001b[0;34m)\u001b[0m\u001b[0;34m:\u001b[0m\u001b[0;34m\u001b[0m\u001b[0;34m\u001b[0m\u001b[0m\n\u001b[1;32m   2764\u001b[0m     \u001b[0;32mreturn\u001b[0m \u001b[0mself\u001b[0m\u001b[0;34m.\u001b[0m\u001b[0mchar\u001b[0m\u001b[0;34m(\u001b[0m\u001b[0;34m)\u001b[0m\u001b[0;34m\u001b[0m\u001b[0;34m\u001b[0m\u001b[0m\n",
      "\u001b[0;31mRuntimeError\u001b[0m: (Getfem::InterfaceError) -- Error in getfem_models.cc, line 101 : \nVariable alpha_D already exists"
     ]
    }
   ],
   "source": [
    "md.add_variable('alpha_D', 1)\n",
    "\n",
    "md.add_filtered_fem_variable('lambda_D', mflambda, HOLE_BOUND)\n",
    "\n",
    "md.add_initialized_data('F', [applied_force/(8*2*np.pi)])\n",
    "md.add_linear_term(mim1, '-lambda_D.Test_u1 + (alpha_D*[0;1]-u1).Test_lambda_D'\n",
    "      ' + (lambda_D.[0;1]+F)*Test_alpha_D', HOLE_BOUND)\n",
    "\n",
    "md.add_linear_term(mim1, '1E-6*alpha_D*Test_alpha_D');"
   ]
  },
  {
   "cell_type": "code",
   "execution_count": 11,
   "metadata": {},
   "outputs": [],
   "source": [
    "U1 = md.variable('u1')\n",
    "U2 = md.variable('u2')\n",
    "VM1 = md.compute_isotropic_linearized_Von_Mises_or_Tresca('u1', 'clambdastar', 'cmu', mfvm1)\n",
    "VM2 = md.compute_isotropic_linearized_Von_Mises_or_Tresca('u2', 'clambdastar', 'cmu', mfvm2)\n",
    "\n",
    "mfvm1.export_to_vtk('displacement_with_von_mises1.vtk', mfvm1,  VM1, 'Von Mises Stresses',\n",
    "                     mfu1, U1, 'Displacements')\n",
    "\n",
    "mfvm2.export_to_vtk('displacement_with_von_mises2.vtk', mfvm2,  VM2, 'Von Mises Stresses',\n",
    "                    mfu2, U2, 'Displacements')\n",
    "# You can view solutions with for instance:\n",
    "# mayavi2 -d displacement_with_von_mises1.vtk -f WarpVector -m Surface -d displacement_with_von_mises2.vtk -f WarpVector -m Surface"
   ]
  },
  {
   "cell_type": "code",
   "execution_count": null,
   "metadata": {},
   "outputs": [],
   "source": []
  }
 ],
 "metadata": {
  "kernelspec": {
   "display_name": "Python 3",
   "language": "python",
   "name": "python3"
  },
  "language_info": {
   "codemirror_mode": {
    "name": "ipython",
    "version": 3
   },
   "file_extension": ".py",
   "mimetype": "text/x-python",
   "name": "python",
   "nbconvert_exporter": "python",
   "pygments_lexer": "ipython3",
   "version": "3.7.6"
  }
 },
 "nbformat": 4,
 "nbformat_minor": 4
}
